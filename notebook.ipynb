select count(*) as missing_year
from public.products
where year_added is null;

select data_type,column_name
from information_schema.columns
where table_name = 'products';


create temp table clean_data
(product_id int not null,
product_type text,
brand text,
weight text,
price numeric,
average_units_sold int,
year_added int,
stock_location text);

insert into clean_data
select * from public.products;

select distinct product_type from clean_data;
select distinct brand from clean_data;--'-'
select max(weight),min(weight) from clean_data;
select max(price) , min (price) from clean_data;
select max(average_units_sold) , min (average_units_sold) from clean_data;
select average_units_sold from clean_data where average_units_sold is null;
select year_added from clean_data where year_added is null;--null
select distinct stock_location from clean_data;

update clean_data
set product_type = 'Unknown'
where product_type is null;

update clean_data
set brand = 'Unknown'
where brand = '-';

update clean_data
set average_units_sold = 0
where average_units_sold is null;

update clean_data
set year_added = 2022
where year_added is null;

update clean_data
set stock_location = 'Unknown'
where stock_location is null;

select 
	product_id,
	product_type,
	brand,
	Case
        when weight is null then round(avg(split_part(weight,' ',1):: numeric) ,2)
        else round(split_part(weight,' ',1):: numeric ,2)
        end as weight,
	ROUND(COALESCE(price :: numeric, avg(price:: numeric)),2) as price,
	average_units_sold,
	year_added,
	Upper(stock_location) as stock_location
from clean_data
group by  PRODUCT_ID,PRODUCT_TYPE,BRAND,WEIGHT,PRICE,AVERAGE_UNITS_SOLD,YEAR_ADDED,STOCK_LOCATION;

with min_max_product as 
( 
select product_type,min(price) as min_price, max(price) as max_price
from public.products
group by product_type
	)
	
select * from min_max_product;

with average_price_product as
(select product_id,price, average_units_sold
from public.products
where (product_type = 'Dairy' or product_type = 'Meat')
 group by 1,2,3
 having average_units_sold > 10)
 
 select * from average_price_product ;
